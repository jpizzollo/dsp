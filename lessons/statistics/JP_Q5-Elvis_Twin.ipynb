{
 "cells": [
  {
   "cell_type": "markdown",
   "metadata": {},
   "source": [
    "#### Q5. Bayesian (Elvis Presley twin)\n",
    "\n",
    "Bayes' Theorem is an important tool in understanding what we really know, given evidence of other information we have, in a quantitative way. It helps incorporate conditional probabilities into our conclusions.\n",
    "\n",
    "Elvis Presley had a twin brother who died at birth. What is the probability that Elvis was an identical twin? Assume we observe the following probabilities in the population: fraternal twin is 1/125 and identical twin is 1/300."
   ]
  },
  {
   "cell_type": "markdown",
   "metadata": {},
   "source": [
    "#### Answer\n",
    "\n",
    "Here we have two hypotheses:  \n",
    "A. Elvis had an identical twin  \n",
    "B. Elvis had a fraternal twin\n",
    "\n",
    "Given rates of occurrence for each twin type, and one piece of data, that Elvis's twin was his brother, we can calculate the posterior probability that either hypothesis is true. \n",
    "\n",
    "First, we need to determine the prior probability of each hypothesis. The rate of identical twins is 1/300, and the rate of fraternal twins is 1/125. If indeed Elvis had a twin, there must be a 100% posibility that one of these hypotheses is true, i.e. the sum of the probabilities of the two hypotheses must equal 1. Therefore, we need to normalize the probabilities of each hypothesis. \n",
    "\n",
    "To normalize,  \n",
    "p(A) = p(identical) = rate identical / rate identical + rate fraternal = (1/300) / (1/300 + 1/125) = 0.2941  \n",
    "p(B) = p(fraternal) = rate fraternal / rate identical + rate fraternal = (1/125) / (1/300 + 1/125) = 0.7059\n",
    "\n",
    "We also have one bit of data here, and that is Elvis's twin was his brother. For identical twins, there is a 100% chance that twins have the same sex. For fraternal twins, we can assume that there is only a 50% chance that they are the same sex. These rates represent the likelihood of the hypothesis given some data p(D|H).\n",
    "\n",
    "To calculate the posterior probability of each hypothesis, we first calculate the conjunction, multiplying p(H) by p(D|H). The posterior probability is the conjunction for each hypothesis divided by the sum of the two conjunctions. This calculation tells us that, if Elvis had a twin brother, there is a 45% chance he was an identical twin, and a 55% chance he was a fraternal twin.\n",
    "\n",
    "\n",
    "|Hypo| p(H) (prior) |p(D\\|H) (Likelihood) |p(H)p(D\\|H) (conjunction)| p(H\\|D) (posterior)|\n",
    "|----|--------------|---------------------|-------------------------|--------------------|\n",
    "| A  |0.2941        | 1                   |0.2941                   |0.454               |\n",
    "| B  |0.7059        | 0.5                 |0.3529                   |0.545               |\n"
   ]
  }
 ],
 "metadata": {
  "kernelspec": {
   "display_name": "Python 3",
   "language": "python",
   "name": "python3"
  },
  "language_info": {
   "codemirror_mode": {
    "name": "ipython",
    "version": 3
   },
   "file_extension": ".py",
   "mimetype": "text/x-python",
   "name": "python",
   "nbconvert_exporter": "python",
   "pygments_lexer": "ipython3",
   "version": "3.8.3"
  }
 },
 "nbformat": 4,
 "nbformat_minor": 4
}
